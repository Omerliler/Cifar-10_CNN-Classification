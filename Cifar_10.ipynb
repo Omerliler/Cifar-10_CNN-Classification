{
  "nbformat": 4,
  "nbformat_minor": 0,
  "metadata": {
    "accelerator": "GPU",
    "colab": {
      "name": "Cifar-10.ipynb",
      "provenance": [],
      "collapsed_sections": []
    },
    "kernelspec": {
      "display_name": "Python 3",
      "name": "python3"
    },
    "language_info": {
      "name": "python"
    }
  },
  "cells": [
    {
      "cell_type": "code",
      "metadata": {
        "id": "dikTNWQ_97qD"
      },
      "source": [
        "import tensorflow as tf\n",
        "from tensorflow.keras import datasets, layers, models\n",
        "import matplotlib.pyplot as plt\n",
        "import numpy as np"
      ],
      "execution_count": null,
      "outputs": []
    },
    {
      "cell_type": "markdown",
      "metadata": {
        "id": "RfLypOnvC1Gy"
      },
      "source": [
        "## Getting the data from Keras Datasets"
      ]
    },
    {
      "cell_type": "code",
      "metadata": {
        "colab": {
          "base_uri": "https://localhost:8080/"
        },
        "id": "Hi01iLzD-heQ",
        "outputId": "95680b44-9ec4-41f6-94df-7dc8a5486050"
      },
      "source": [
        "(X_train, y_train), (X_test, y_test) = datasets.cifar10.load_data()"
      ],
      "execution_count": null,
      "outputs": [
        {
          "name": "stdout",
          "output_type": "stream",
          "text": [
            "Downloading data from https://www.cs.toronto.edu/~kriz/cifar-10-python.tar.gz\n",
            "170500096/170498071 [==============================] - 7s 0us/step\n",
            "170508288/170498071 [==============================] - 7s 0us/step\n"
          ]
        }
      ]
    },
    {
      "cell_type": "code",
      "metadata": {
        "colab": {
          "base_uri": "https://localhost:8080/"
        },
        "id": "lpKwiE6y-yN7",
        "outputId": "c7653fb8-fe27-448a-fc86-d7e612a5fc12"
      },
      "source": [
        "X_train.shape"
      ],
      "execution_count": null,
      "outputs": [
        {
          "data": {
            "text/plain": [
              "(50000, 32, 32, 3)"
            ]
          },
          "execution_count": 3,
          "metadata": {},
          "output_type": "execute_result"
        }
      ]
    },
    {
      "cell_type": "code",
      "metadata": {
        "colab": {
          "base_uri": "https://localhost:8080/"
        },
        "id": "wrtUWs5pBcf4",
        "outputId": "b78fb819-bfa6-4d2f-8a6a-8d76836cb7b9"
      },
      "source": [
        "y_train[:5]"
      ],
      "execution_count": null,
      "outputs": [
        {
          "data": {
            "text/plain": [
              "array([[6],\n",
              "       [9],\n",
              "       [9],\n",
              "       [4],\n",
              "       [1]], dtype=uint8)"
            ]
          },
          "execution_count": 4,
          "metadata": {},
          "output_type": "execute_result"
        }
      ]
    },
    {
      "cell_type": "code",
      "metadata": {
        "colab": {
          "base_uri": "https://localhost:8080/"
        },
        "id": "QqIE4BGhB0_8",
        "outputId": "c9a1be8d-6941-47de-f3c2-b895fbd7ca2a"
      },
      "source": [
        "y_train = y_train.reshape(-1,)\n",
        "y_train[:5]"
      ],
      "execution_count": null,
      "outputs": [
        {
          "data": {
            "text/plain": [
              "array([6, 9, 9, 4, 1], dtype=uint8)"
            ]
          },
          "execution_count": 3,
          "metadata": {},
          "output_type": "execute_result"
        }
      ]
    },
    {
      "cell_type": "markdown",
      "metadata": {
        "id": "9HLL3BIWC79k"
      },
      "source": [
        "## Show Image Function"
      ]
    },
    {
      "cell_type": "code",
      "metadata": {
        "id": "6AqLK-lv_FZK"
      },
      "source": [
        "classes = [\"airplane\",\"automobile\",\"bird\",\"cat\",\"deer\",\"dog\",\"frog\",\"horse\",\"ship\",\"truck\"]\n",
        "\n",
        "def showImage(X,y,index, y_classes=0):\n",
        "  plt.figure(figsize=(15,2))\n",
        "  plt.imshow(X[index])\n",
        "  if(y_classes == 0):\n",
        "    plt.xlabel('Label: {} - Prediction: {}'.format(classes[y[index]],  'NaN'))\n",
        "    return\n",
        "  plt.xlabel('Label: {} - Prediction: {}'.format(classes[y[index]],  classes[y_classes[index]]))"
      ],
      "execution_count": null,
      "outputs": []
    },
    {
      "cell_type": "code",
      "metadata": {
        "colab": {
          "base_uri": "https://localhost:8080/",
          "height": 173
        },
        "id": "CHBwq6iUCYa2",
        "outputId": "9df3bc3a-f88c-434f-9e82-1ff15adaf6a7"
      },
      "source": [
        "showImage(X_train,y_train,60)"
      ],
      "execution_count": null,
      "outputs": [
        {
          "data": {
            "image/png": "[encoded data removed]",
            "text/plain": [
              "<Figure size 1080x144 with 1 Axes>"
            ]
          },
          "metadata": {},
          "output_type": "display_data"
        }
      ]
    },
    {
      "cell_type": "markdown",
      "metadata": {
        "id": "UGWDuj39Cyxz"
      },
      "source": [
        "## Normalizing the data"
      ]
    },
    {
      "cell_type": "code",
      "metadata": {
        "id": "rrZbyFV7Cxn2"
      },
      "source": [
        "X_train = X_train/255\n",
        "X_test = X_test/255"
      ],
      "execution_count": null,
      "outputs": []
    },
    {
      "cell_type": "markdown",
      "metadata": {
        "id": "-wD7fFQTDcCZ"
      },
      "source": [
        "## Simple Model Fit"
      ]
    },
    {
      "cell_type": "code",
      "metadata": {
        "colab": {
          "base_uri": "https://localhost:8080/"
        },
        "id": "XsDK5S7FDbYI",
        "outputId": "9185a5c2-3fb4-478c-cb0d-9af818735fae"
      },
      "source": [
        "ann = models.Sequential([\n",
        "        layers.Flatten(input_shape=(32,32,3)),\n",
        "        layers.Dense(3000, activation='relu'),\n",
        "        layers.Dense(1000, activation='relu'),\n",
        "        layers.Dense(10, activation='softmax')    \n",
        "    ])\n",
        "\n",
        "ann.compile(optimizer='SGD',\n",
        "              loss='sparse_categorical_crossentropy',\n",
        "              metrics=['accuracy'])\n",
        "\n",
        "ann.fit(X_train, y_train, epochs=5)"
      ],
      "execution_count": null,
      "outputs": [
        {
          "name": "stdout",
          "output_type": "stream",
          "text": [
            "Epoch 1/5\n",
            "1563/1563 [==============================] - 14s 7ms/step - loss: 1.8176 - accuracy: 0.3522\n",
            "Epoch 2/5\n",
            "1563/1563 [==============================] - 11s 7ms/step - loss: 1.6261 - accuracy: 0.4264\n",
            "Epoch 3/5\n",
            "1563/1563 [==============================] - 10s 7ms/step - loss: 1.5431 - accuracy: 0.4569\n",
            "Epoch 4/5\n",
            "1563/1563 [==============================] - 10s 7ms/step - loss: 1.4817 - accuracy: 0.4785\n",
            "Epoch 5/5\n",
            "1563/1563 [==============================] - 10s 7ms/step - loss: 1.4336 - accuracy: 0.4966\n"
          ]
        },
        {
          "data": {
            "text/plain": [
              "<keras.callbacks.History at 0x7f03f08df210>"
            ]
          },
          "execution_count": 9,
          "metadata": {},
          "output_type": "execute_result"
        }
      ]
    },
    {
      "cell_type": "code",
      "metadata": {
        "colab": {
          "base_uri": "https://localhost:8080/"
        },
        "id": "zn3C2ReyEbS2",
        "outputId": "ce7791e1-4bbb-4e14-99f5-727c477a78ae"
      },
      "source": [
        "ann.evaluate(X_test, y_test)"
      ],
      "execution_count": null,
      "outputs": [
        {
          "name": "stdout",
          "output_type": "stream",
          "text": [
            "313/313 [==============================] - 8s 25ms/step - loss: 1.4677 - accuracy: 0.4762\n"
          ]
        },
        {
          "data": {
            "text/plain": [
              "[1.4677257537841797, 0.47620001435279846]"
            ]
          },
          "execution_count": 21,
          "metadata": {},
          "output_type": "execute_result"
        }
      ]
    },
    {
      "cell_type": "code",
      "metadata": {
        "colab": {
          "base_uri": "https://localhost:8080/"
        },
        "id": "CpKcF3GiEhIt",
        "outputId": "56e219a3-2816-4f81-b646-fc5be66a57a0"
      },
      "source": [
        "from sklearn.metrics import confusion_matrix, classification_report\n",
        "y_pred = ann.predict(X_test)\n",
        "y_pred_classes = [np.argmax(element) for element in y_pred]\n",
        "\n",
        "print('Classification Report: \\n',classification_report(y_test,y_pred_classes))"
      ],
      "execution_count": null,
      "outputs": [
        {
          "name": "stdout",
          "output_type": "stream",
          "text": [
            "Classification Report: \n",
            "               precision    recall  f1-score   support\n",
            "\n",
            "           0       0.58      0.48      0.52      1000\n",
            "           1       0.63      0.61      0.62      1000\n",
            "           2       0.26      0.62      0.37      1000\n",
            "           3       0.40      0.27      0.32      1000\n",
            "           4       0.48      0.29      0.36      1000\n",
            "           5       0.56      0.23      0.33      1000\n",
            "           6       0.47      0.62      0.53      1000\n",
            "           7       0.68      0.43      0.52      1000\n",
            "           8       0.55      0.68      0.61      1000\n",
            "           9       0.55      0.56      0.55      1000\n",
            "\n",
            "    accuracy                           0.48     10000\n",
            "   macro avg       0.52      0.48      0.47     10000\n",
            "weighted avg       0.52      0.48      0.47     10000\n",
            "\n"
          ]
        }
      ]
    },
    {
      "cell_type": "code",
      "metadata": {
        "id": "p5WR9xSqGMFS"
      },
      "source": [
        "## CNN Layers\n",
        "\n",
        "cnn = models.Sequential([\n",
        "  ## CNN\n",
        "  layers.Conv2D(filters=32, kernel_size=(3,3), activation='relu', input_shape = (32, 32, 3)),\n",
        "  layers.MaxPooling2D((2,2)),\n",
        "\n",
        "  layers.Conv2D(filters=64, kernel_size=(3,3), activation='relu'),\n",
        "  layers.MaxPooling2D((2,2)),\n",
        "\n",
        "\n",
        "  ## Dense      \n",
        "  layers.Flatten(),\n",
        "  layers.Dense(64, activation='relu'),\n",
        "  layers.Dense(10, activation='softmax')\n",
        "                      \n",
        "])\n",
        "\n",
        "## Sigmoid output is direct\n",
        "## Softmax output is normalized.Sum of results is 1"
      ],
      "execution_count": null,
      "outputs": []
    },
    {
      "cell_type": "code",
      "metadata": {
        "colab": {
          "base_uri": "https://localhost:8080/"
        },
        "id": "el9tBrf3Hk2X",
        "outputId": "2a4618b7-b69b-4467-fbce-6d5a8da85363"
      },
      "source": [
        "cnn.compile(optimizer='adam',\n",
        "              loss='sparse_categorical_crossentropy',\n",
        "              metrics=['accuracy'])\n",
        "\n",
        "cnn.fit(X_train, y_train, epochs=10)"
      ],
      "execution_count": null,
      "outputs": [
        {
          "name": "stdout",
          "output_type": "stream",
          "text": [
            "Epoch 1/10\n",
            "1563/1563 [==============================] - 16s 6ms/step - loss: 1.4544 - accuracy: 0.4769\n",
            "Epoch 2/10\n",
            "1563/1563 [==============================] - 10s 6ms/step - loss: 1.1101 - accuracy: 0.6103\n",
            "Epoch 3/10\n",
            "1563/1563 [==============================] - 10s 6ms/step - loss: 0.9828 - accuracy: 0.6577\n",
            "Epoch 4/10\n",
            "1563/1563 [==============================] - 10s 6ms/step - loss: 0.9014 - accuracy: 0.6856\n",
            "Epoch 5/10\n",
            "1563/1563 [==============================] - 10s 6ms/step - loss: 0.8290 - accuracy: 0.7133\n",
            "Epoch 6/10\n",
            "1563/1563 [==============================] - 10s 6ms/step - loss: 0.7740 - accuracy: 0.7311\n",
            "Epoch 7/10\n",
            "1563/1563 [==============================] - 10s 6ms/step - loss: 0.7168 - accuracy: 0.7487\n",
            "Epoch 8/10\n",
            "1563/1563 [==============================] - 10s 6ms/step - loss: 0.6735 - accuracy: 0.7647\n",
            "Epoch 9/10\n",
            "1563/1563 [==============================] - 10s 6ms/step - loss: 0.6342 - accuracy: 0.7760\n",
            "Epoch 10/10\n",
            "1563/1563 [==============================] - 10s 6ms/step - loss: 0.5973 - accuracy: 0.7911\n"
          ]
        },
        {
          "data": {
            "text/plain": [
              "<keras.callbacks.History at 0x7f5c30348c50>"
            ]
          },
          "execution_count": 11,
          "metadata": {},
          "output_type": "execute_result"
        }
      ]
    },
    {
      "cell_type": "code",
      "metadata": {
        "colab": {
          "base_uri": "https://localhost:8080/"
        },
        "id": "DEEo4a9dJLIi",
        "outputId": "ea217176-0318-4e8a-fd8f-52bd7e733780"
      },
      "source": [
        "cnn.evaluate(X_test,y_test)"
      ],
      "execution_count": null,
      "outputs": [
        {
          "name": "stdout",
          "output_type": "stream",
          "text": [
            "313/313 [==============================] - 1s 4ms/step - loss: 0.9884 - accuracy: 0.6821\n"
          ]
        },
        {
          "data": {
            "text/plain": [
              "[0.9884434342384338, 0.6820999979972839]"
            ]
          },
          "execution_count": 12,
          "metadata": {},
          "output_type": "execute_result"
        }
      ]
    },
    {
      "cell_type": "code",
      "metadata": {
        "id": "F_vYE_vFJuYx"
      },
      "source": [
        "y_pred = cnn.predict(X_test)\n",
        "y_classes = [np.argmax(element) for element in y_pred]\n"
      ],
      "execution_count": null,
      "outputs": []
    },
    {
      "cell_type": "code",
      "metadata": {
        "colab": {
          "base_uri": "https://localhost:8080/",
          "height": 35
        },
        "id": "n6pRVCJZLruu",
        "outputId": "31fdb960-f47f-45c3-b156-25236a536079"
      },
      "source": [
        "y_test = y_test.reshape(-1,)\n",
        "classes[y_test[0]]"
      ],
      "execution_count": null,
      "outputs": [
        {
          "data": {
            "application/vnd.google.colaboratory.intrinsic+json": {
              "type": "string"
            },
            "text/plain": [
              "'cat'"
            ]
          },
          "execution_count": 12,
          "metadata": {},
          "output_type": "execute_result"
        }
      ]
    },
    {
      "cell_type": "code",
      "metadata": {
        "colab": {
          "base_uri": "https://localhost:8080/",
          "height": 173
        },
        "id": "XZWSOlgOKddu",
        "outputId": "129d2c90-2369-4028-d7d1-054f40d919fa"
      },
      "source": [
        "showImage(X_test, y_test, 5, y_classes)"
      ],
      "execution_count": null,
      "outputs": [
        {
          "data": {
            "image/png": "[encoded data removed]",
            "text/plain": [
              "<Figure size 1080x144 with 1 Axes>"
            ]
          },
          "metadata": {},
          "output_type": "display_data"
        }
      ]
    },
    {
      "cell_type": "markdown",
      "metadata": {
        "id": "AinJGy_2yzwk"
      },
      "source": [
        "## Hyperparameter Optimization - Keras Tuner\n"
      ]
    },
    {
      "cell_type": "code",
      "metadata": {
        "id": "EoltjiuzzVgu"
      },
      "source": [
        "pip install keras-tuner "
      ],
      "execution_count": null,
      "outputs": []
    },
    {
      "cell_type": "code",
      "metadata": {
        "colab": {
          "background_save": true,
          "base_uri": "https://localhost:8080/"
        },
        "id": "dPDEab8vy5Hx",
        "outputId": "4e18afea-7f87-4b2a-8372-2eacc57ad310"
      },
      "source": [
        "import keras_tuner as kt\n",
        "from keras_tuner import RandomSearch\n",
        "\n",
        "\n",
        "def build_model(hp):\n",
        "  model = models.Sequential()\n",
        "\n",
        "  # model.add(layers.AveragePooling2D(6,3,input_shape=(32, 32, 3)))\n",
        "\n",
        "  for i in range(hp.Int(\"Conv Layers\", min_value=0, max_value=3)):\n",
        "    model.add(layers.Conv2D(filters=hp.Choice(f\"layer_{i}_filters\", [4,8,16,32]), kernel_size=(3,3), activation='relu', input_shape=(32, 32, 3)))\n",
        "  \n",
        "  model.add(layers.MaxPool2D(2,2))\n",
        "  # model.add(keras.layers.Dropout(0.5))\n",
        "  model.add(layers.Flatten())\n",
        "\n",
        "  model.add(layers.Dense(hp.Choice(\"Dense layer\", [32, 64, 128]), activation='relu'))\n",
        "\n",
        "  model.add(layers.Dense(10, activation='softmax'))\n",
        "\n",
        "  model.compile(optimizer='adam',\n",
        "              loss='sparse_categorical_crossentropy',\n",
        "              metrics=['accuracy'])\n",
        "  \n",
        "  return model\n",
        "\n",
        "\n",
        "tuner = RandomSearch(\n",
        "    build_model,\n",
        "    objective='val_accuracy',\n",
        "    max_trials=24,\n",
        "    overwrite=True\n",
        ")\n",
        "\n",
        "tuner.search(X_train, y_train, validation_data=(X_test, y_test), epochs=10, batch_size=32)"
      ],
      "execution_count": null,
      "outputs": [
        {
          "name": "stdout",
          "output_type": "stream",
          "text": [
            "Trial 6 Complete [00h 06m 21s]\n",
            "val_accuracy: 0.5860000252723694\n",
            "\n",
            "Best val_accuracy So Far: 0.6068000197410583\n",
            "Total elapsed time: 00h 45m 27s\n",
            "\n",
            "Search: Running Trial #7\n",
            "\n",
            "Hyperparameter    |Value             |Best Value So Far \n",
            "Conv Layers       |2                 |2                 \n",
            "Dense layer       |64                |128               \n",
            "layer_0_filters   |32                |32                \n",
            "layer_1_filters   |16                |8                 \n",
            "layer_2_filters   |4                 |16                \n",
            "\n",
            "Epoch 1/10\n",
            "1563/1563 [==============================] - 96s 61ms/step - loss: 1.4566 - accuracy: 0.4777 - val_loss: 1.2119 - val_accuracy: 0.5719\n",
            "Epoch 2/10\n",
            "1563/1563 [==============================] - 96s 61ms/step - loss: 1.1147 - accuracy: 0.6055 - val_loss: 1.0730 - val_accuracy: 0.6233\n",
            "Epoch 3/10\n",
            "1563/1563 [==============================] - 96s 61ms/step - loss: 0.9674 - accuracy: 0.6615 - val_loss: 1.0223 - val_accuracy: 0.6428\n",
            "Epoch 4/10\n",
            "1563/1563 [==============================] - 96s 61ms/step - loss: 0.8696 - accuracy: 0.6961 - val_loss: 1.0042 - val_accuracy: 0.6557\n",
            "Epoch 5/10\n",
            "1563/1563 [==============================] - 96s 61ms/step - loss: 0.7927 - accuracy: 0.7224 - val_loss: 0.9911 - val_accuracy: 0.6585\n",
            "Epoch 6/10\n",
            "1563/1563 [==============================] - 95s 61ms/step - loss: 0.7271 - accuracy: 0.7449 - val_loss: 1.0124 - val_accuracy: 0.6582\n",
            "Epoch 7/10\n",
            "1563/1563 [==============================] - 96s 61ms/step - loss: 0.6662 - accuracy: 0.7671 - val_loss: 1.0155 - val_accuracy: 0.6688\n",
            "Epoch 8/10\n",
            "1563/1563 [==============================] - 95s 61ms/step - loss: 0.6087 - accuracy: 0.7869 - val_loss: 1.0017 - val_accuracy: 0.6713\n",
            "Epoch 9/10\n",
            "1563/1563 [==============================] - 95s 61ms/step - loss: 0.5525 - accuracy: 0.8070 - val_loss: 1.1042 - val_accuracy: 0.6600\n",
            "Epoch 10/10\n",
            " 215/1563 [===>..........................] - ETA: 1:19 - loss: 0.4511 - accuracy: 0.8467"
          ]
        }
      ]
    },
    {
      "cell_type": "code",
      "metadata": {
        "colab": {
          "base_uri": "https://localhost:8080/"
        },
        "id": "Z55ovYvGS7Bq",
        "outputId": "2f8ad6fb-c201-4e6d-fa77-6cbfe755b3ae"
      },
      "source": [
        "best_model = tuner.get_best_models()[0]\n",
        "best_model.summary()"
      ],
      "execution_count": null,
      "outputs": [
        {
          "name": "stdout",
          "output_type": "stream",
          "text": [
            "Model: \"sequential\"\n",
            "_________________________________________________________________\n",
            " Layer (type)                Output Shape              Param #   \n",
            "=================================================================\n",
            " conv2d (Conv2D)             (None, 30, 30, 16)        448       \n",
            "                                                                 \n",
            " conv2d_1 (Conv2D)           (None, 28, 28, 32)        4640      \n",
            "                                                                 \n",
            " max_pooling2d (MaxPooling2D  (None, 14, 14, 32)       0         \n",
            " )                                                               \n",
            "                                                                 \n",
            " flatten (Flatten)           (None, 6272)              0         \n",
            "                                                                 \n",
            " dense (Dense)               (None, 64)                401472    \n",
            "                                                                 \n",
            " dense_1 (Dense)             (None, 10)                650       \n",
            "                                                                 \n",
            "=================================================================\n",
            "Total params: 407,210\n",
            "Trainable params: 407,210\n",
            "Non-trainable params: 0\n",
            "_________________________________________________________________\n"
          ]
        }
      ]
    },
    {
      "cell_type": "code",
      "metadata": {
        "colab": {
          "base_uri": "https://localhost:8080/"
        },
        "id": "8Slm5apjUBKm",
        "outputId": "0b748d97-14f9-4462-b6c8-09714ea1a6c0"
      },
      "source": [
        "tuner.results_summary()"
      ],
      "execution_count": null,
      "outputs": [
        {
          "name": "stdout",
          "output_type": "stream",
          "text": [
            "Results summary\n",
            "Results in ./untitled_project\n",
            "Showing 10 best trials\n",
            "Objective(name='val_accuracy', direction='max')\n",
            "Trial summary\n",
            "Hyperparameters:\n",
            "Conv Layers: 2\n",
            "Dense layer: 64\n",
            "layer_0_filters: 16\n",
            "layer_1_filters: 32\n",
            "layer_2_filters: 8\n",
            "Score: 0.6780999898910522\n",
            "Trial summary\n",
            "Hyperparameters:\n",
            "Conv Layers: 2\n",
            "Dense layer: 64\n",
            "layer_0_filters: 16\n",
            "layer_1_filters: 32\n",
            "layer_2_filters: 16\n",
            "Score: 0.6762999892234802\n",
            "Trial summary\n",
            "Hyperparameters:\n",
            "Conv Layers: 2\n",
            "Dense layer: 64\n",
            "layer_0_filters: 32\n",
            "layer_1_filters: 32\n",
            "layer_2_filters: 16\n",
            "Score: 0.6730999946594238\n",
            "Trial summary\n",
            "Hyperparameters:\n",
            "Conv Layers: 2\n",
            "Dense layer: 64\n",
            "layer_0_filters: 32\n",
            "layer_1_filters: 16\n",
            "layer_2_filters: 16\n",
            "Score: 0.6687999963760376\n",
            "Trial summary\n",
            "Hyperparameters:\n",
            "Conv Layers: 2\n",
            "Dense layer: 32\n",
            "layer_0_filters: 16\n",
            "layer_1_filters: 32\n",
            "layer_2_filters: 32\n",
            "Score: 0.6632999777793884\n",
            "Trial summary\n",
            "Hyperparameters:\n",
            "Conv Layers: 2\n",
            "Dense layer: 64\n",
            "layer_0_filters: 8\n",
            "layer_1_filters: 16\n",
            "layer_2_filters: 8\n",
            "Score: 0.6504999995231628\n",
            "Trial summary\n",
            "Hyperparameters:\n",
            "Conv Layers: 2\n",
            "Dense layer: 64\n",
            "layer_0_filters: 32\n",
            "layer_1_filters: 8\n",
            "layer_2_filters: 32\n",
            "Score: 0.6427000164985657\n",
            "Trial summary\n",
            "Hyperparameters:\n",
            "Conv Layers: 2\n",
            "Dense layer: 16\n",
            "layer_0_filters: 16\n",
            "layer_1_filters: 16\n",
            "layer_2_filters: 16\n",
            "Score: 0.6327999830245972\n",
            "Trial summary\n",
            "Hyperparameters:\n",
            "Conv Layers: 2\n",
            "Dense layer: 16\n",
            "layer_0_filters: 32\n",
            "layer_1_filters: 8\n",
            "layer_2_filters: 16\n",
            "Score: 0.6309000253677368\n",
            "Trial summary\n",
            "Hyperparameters:\n",
            "Conv Layers: 2\n",
            "Dense layer: 32\n",
            "layer_0_filters: 8\n",
            "layer_1_filters: 8\n",
            "layer_2_filters: 32\n",
            "Score: 0.6230000257492065\n"
          ]
        }
      ]
    },
    {
      "cell_type": "code",
      "metadata": {
        "colab": {
          "base_uri": "https://localhost:8080/"
        },
        "id": "O8tH0VLbTzue",
        "outputId": "fb659983-8a20-47ec-ba25-daefd3966d43"
      },
      "source": [
        "best_model.evaluate(X_test, y_test)"
      ],
      "execution_count": null,
      "outputs": [
        {
          "name": "stdout",
          "output_type": "stream",
          "text": [
            "313/313 [==============================] - 2s 4ms/step - loss: 0.9471 - accuracy: 0.6781\n"
          ]
        },
        {
          "data": {
            "text/plain": [
              "[0.9471351504325867, 0.6780999898910522]"
            ]
          },
          "execution_count": 12,
          "metadata": {},
          "output_type": "execute_result"
        }
      ]
    }
  ]
}