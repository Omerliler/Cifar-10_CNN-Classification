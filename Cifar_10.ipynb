{
  "nbformat": 4,
  "nbformat_minor": 0,
  "metadata": {
    "accelerator": "GPU",
    "colab": {
      "name": "Cifar-10.ipynb",
      "provenance": [],
      "collapsed_sections": [],
      "authorship_tag": "ABX9TyPL/pSJ+pqoMz/3p+cNx+gb",
      "include_colab_link": true
    },
    "kernelspec": {
      "display_name": "Python 3",
      "name": "python3"
    },
    "language_info": {
      "name": "python"
    }
  },
  "cells": [
    {
      "cell_type": "markdown",
      "metadata": {
        "id": "view-in-github",
        "colab_type": "text"
      },
      "source": [
        "<a href=\"https://colab.research.google.com/github/Omerliler/Cifar-10_CNN-Classification/blob/main/Cifar_10.ipynb\" target=\"_parent\"><img src=\"https://colab.research.google.com/assets/colab-badge.svg\" alt=\"Open In Colab\"/></a>"
      ]
    },
    {
      "cell_type": "code",
      "metadata": {
        "id": "dikTNWQ_97qD"
      },
      "source": [
        "import tensorflow as tf\n",
        "from tensorflow.keras import datasets, layers, models,optimizers\n",
        "import matplotlib.pyplot as plt\n",
        "import numpy as np"
      ],
      "execution_count": 1,
      "outputs": []
    },
    {
      "cell_type": "markdown",
      "metadata": {
        "id": "RfLypOnvC1Gy"
      },
      "source": [
        "## Getting the data from Keras Datasets"
      ]
    },
    {
      "cell_type": "code",
      "metadata": {
        "id": "Hi01iLzD-heQ"
      },
      "source": [
        "(X_train, y_train), (X_test, y_test) = datasets.cifar10.load_data()"
      ],
      "execution_count": 2,
      "outputs": []
    },
    {
      "cell_type": "code",
      "metadata": {
        "colab": {
          "base_uri": "https://localhost:8080/"
        },
        "id": "lpKwiE6y-yN7",
        "outputId": "5a5048a9-86c8-4d7e-8200-b6dc7128b518"
      },
      "source": [
        "X_train.shape"
      ],
      "execution_count": null,
      "outputs": [
        {
          "output_type": "execute_result",
          "data": {
            "text/plain": [
              "(50000, 32, 32, 3)"
            ]
          },
          "metadata": {},
          "execution_count": 3
        }
      ]
    },
    {
      "cell_type": "code",
      "metadata": {
        "colab": {
          "base_uri": "https://localhost:8080/"
        },
        "id": "wrtUWs5pBcf4",
        "outputId": "bafd9848-546a-4b12-8447-340ca56ccd6a"
      },
      "source": [
        "y_train[:5]"
      ],
      "execution_count": null,
      "outputs": [
        {
          "output_type": "execute_result",
          "data": {
            "text/plain": [
              "array([[6],\n",
              "       [9],\n",
              "       [9],\n",
              "       [4],\n",
              "       [1]], dtype=uint8)"
            ]
          },
          "metadata": {},
          "execution_count": 4
        }
      ]
    },
    {
      "cell_type": "code",
      "metadata": {
        "colab": {
          "base_uri": "https://localhost:8080/"
        },
        "id": "QqIE4BGhB0_8",
        "outputId": "d60c244a-3544-421a-b217-b6c687f02739"
      },
      "source": [
        "y_train = y_train.reshape(-1,)\n",
        "y_train[:5]"
      ],
      "execution_count": 3,
      "outputs": [
        {
          "output_type": "execute_result",
          "data": {
            "text/plain": [
              "array([6, 9, 9, 4, 1], dtype=uint8)"
            ]
          },
          "metadata": {},
          "execution_count": 3
        }
      ]
    },
    {
      "cell_type": "markdown",
      "metadata": {
        "id": "9HLL3BIWC79k"
      },
      "source": [
        "## Show Image Function"
      ]
    },
    {
      "cell_type": "code",
      "metadata": {
        "id": "6AqLK-lv_FZK"
      },
      "source": [
        "classes = [\"airplane\",\"automobile\",\"bird\",\"cat\",\"deer\",\"dog\",\"frog\",\"horse\",\"ship\",\"truck\"]\n",
        "\n",
        "def showImage(X,y,index, y_classes=0):\n",
        "  plt.figure(figsize=(15,2))\n",
        "  plt.imshow(X[index])\n",
        "  if(y_classes == 0):\n",
        "    plt.xlabel('Label: {} - Prediction: {}'.format(classes[y[index]],  'NaN'))\n",
        "    return\n",
        "  plt.xlabel('Label: {} - Prediction: {}'.format(classes[y[index]],  classes[y_classes[index]]))"
      ],
      "execution_count": 4,
      "outputs": []
    },
    {
      "cell_type": "code",
      "metadata": {
        "colab": {
          "base_uri": "https://localhost:8080/",
          "height": 173
        },
        "id": "CHBwq6iUCYa2",
        "outputId": "4bbd1af1-10b2-4913-9232-5673f7fd59d4"
      },
      "source": [
        "showImage(X_train,y_train,32)"
      ],
      "execution_count": null,
      "outputs": [
        {
          "output_type": "display_data",
          "data": {
            "image/png": "[encoded data removed]",
            "text/plain": [
              "<Figure size 1080x144 with 1 Axes>"
            ]
          },
          "metadata": {
            "needs_background": "light"
          }
        }
      ]
    },
    {
      "cell_type": "markdown",
      "metadata": {
        "id": "UGWDuj39Cyxz"
      },
      "source": [
        "## Normalizing the data"
      ]
    },
    {
      "cell_type": "code",
      "metadata": {
        "id": "rrZbyFV7Cxn2"
      },
      "source": [
        "X_train = X_train/255\n",
        "X_test = X_test/255"
      ],
      "execution_count": 5,
      "outputs": []
    },
    {
      "cell_type": "markdown",
      "metadata": {
        "id": "AinJGy_2yzwk"
      },
      "source": [
        "## Hyperparameter Optimization - Keras Tuner\n"
      ]
    },
    {
      "cell_type": "code",
      "metadata": {
        "id": "EoltjiuzzVgu"
      },
      "source": [
        "pip install keras-tuner "
      ],
      "execution_count": null,
      "outputs": []
    },
    {
      "cell_type": "code",
      "metadata": {
        "colab": {
          "base_uri": "https://localhost:8080/"
        },
        "id": "dPDEab8vy5Hx",
        "outputId": "d4deef69-00f1-4f7c-8b82-87a45afafe42"
      },
      "source": [
        "import keras_tuner as kt\n",
        "from keras_tuner import RandomSearch\n",
        "\n",
        "\n",
        "def build_model(hp):\n",
        "  model = models.Sequential()\n",
        "\n",
        "  # model.add(layers.AveragePooling2D(6,3,input_shape=(32, 32, 3)))\n",
        "\n",
        "  for i in range(hp.Int(\"Conv Layers\", min_value=0, max_value=3)):\n",
        "    model.add(layers.Conv2D(filters=hp.Choice(f\"layer_{i}_filters\", [4,16,32]), kernel_size=(3,3), activation='relu', input_shape=(32, 32, 3)))\n",
        "  \n",
        "  model.add(layers.MaxPooling2D((2,2))),\n",
        "  model.add(layers.Dropout(0.5))\n",
        "  model.add(layers.Flatten())\n",
        "\n",
        "  model.add(layers.Dense(hp.Choice(\"Dense layer\", [32, 64, 128]), activation='relu'))\n",
        "\n",
        "  model.add(layers.Dense(10, activation='softmax'))\n",
        "\n",
        "  model.compile(optimizer='adam',\n",
        "              loss='sparse_categorical_crossentropy',\n",
        "              metrics=['accuracy'])\n",
        "  \n",
        "  return model\n",
        "\n",
        "\n",
        "tuner = RandomSearch(\n",
        "    build_model,\n",
        "    objective='val_accuracy',\n",
        "    max_trials=24,\n",
        "    overwrite=True\n",
        ")\n",
        "\n",
        "tuner.search(X_train, y_train, validation_data=(X_test, y_test), epochs=10, batch_size=32)"
      ],
      "execution_count": null,
      "outputs": [
        {
          "metadata": {
            "tags": null
          },
          "name": "stdout",
          "output_type": "stream",
          "text": [
            "Trial 24 Complete [00h 01m 50s]\n",
            "val_accuracy: 0.6549000144004822\n",
            "\n",
            "Best val_accuracy So Far: 0.675000011920929\n",
            "Total elapsed time: 00h 46m 20s\n",
            "INFO:tensorflow:Oracle triggered exit\n"
          ]
        }
      ]
    },
    {
      "cell_type": "code",
      "metadata": {
        "colab": {
          "base_uri": "https://localhost:8080/"
        },
        "id": "Z55ovYvGS7Bq",
        "outputId": "f1029bf7-cceb-4fa6-9f6a-eb42be386513"
      },
      "source": [
        "best_model = tuner.get_best_models()[0]\n",
        "best_model.summary()"
      ],
      "execution_count": null,
      "outputs": [
        {
          "output_type": "stream",
          "name": "stdout",
          "text": [
            "Model: \"sequential\"\n",
            "_________________________________________________________________\n",
            " Layer (type)                Output Shape              Param #   \n",
            "=================================================================\n",
            " conv2d (Conv2D)             (None, 30, 30, 16)        448       \n",
            "                                                                 \n",
            " conv2d_1 (Conv2D)           (None, 28, 28, 32)        4640      \n",
            "                                                                 \n",
            " max_pooling2d (MaxPooling2D  (None, 14, 14, 32)       0         \n",
            " )                                                               \n",
            "                                                                 \n",
            " flatten (Flatten)           (None, 6272)              0         \n",
            "                                                                 \n",
            " dense (Dense)               (None, 128)               802944    \n",
            "                                                                 \n",
            " dense_1 (Dense)             (None, 10)                1290      \n",
            "                                                                 \n",
            "=================================================================\n",
            "Total params: 809,322\n",
            "Trainable params: 809,322\n",
            "Non-trainable params: 0\n",
            "_________________________________________________________________\n"
          ]
        }
      ]
    },
    {
      "cell_type": "code",
      "metadata": {
        "id": "8Slm5apjUBKm"
      },
      "source": [
        "tuner.results_summary()"
      ],
      "execution_count": null,
      "outputs": []
    },
    {
      "cell_type": "code",
      "metadata": {
        "colab": {
          "base_uri": "https://localhost:8080/"
        },
        "id": "O8tH0VLbTzue",
        "outputId": "04d7c6af-c01f-4515-89d9-265965ed3360"
      },
      "source": [
        "best_model.evaluate(X_test, y_test)"
      ],
      "execution_count": null,
      "outputs": [
        {
          "output_type": "stream",
          "name": "stdout",
          "text": [
            "313/313 [==============================] - 2s 4ms/step - loss: 1.0123 - accuracy: 0.6750\n"
          ]
        },
        {
          "output_type": "execute_result",
          "data": {
            "text/plain": [
              "[1.012343406677246, 0.675000011920929]"
            ]
          },
          "metadata": {},
          "execution_count": 12
        }
      ]
    },
    {
      "cell_type": "code",
      "metadata": {
        "id": "giNZZ10Bdi7S"
      },
      "source": [
        "y_pred = best_model.predict(X_test)\n",
        "y_classes = [np.argmax(element) for element in y_pred]\n",
        "y_test = y_test.reshape(-1,)\n",
        "\n"
      ],
      "execution_count": null,
      "outputs": []
    },
    {
      "cell_type": "code",
      "metadata": {
        "id": "Jkjf-eO-d4o8"
      },
      "source": [
        "for i in range(10):\n",
        "  showImage(X_test, y_test, i, y_classes)"
      ],
      "execution_count": null,
      "outputs": []
    },
    {
      "cell_type": "markdown",
      "metadata": {
        "id": "xp7jvlUSkFOf"
      },
      "source": [
        "## Tuner Class"
      ]
    },
    {
      "cell_type": "code",
      "metadata": {
        "id": "EH9iqjU7kHE1"
      },
      "source": [
        "from keras_tuner import HyperModel\n",
        "\n",
        "\n",
        "class CNNHyperModel(HyperModel):\n",
        "    def __init__(self, input_shape, num_classes):\n",
        "        self.input_shape = input_shape\n",
        "        self.num_classes = num_classes\n",
        "\n",
        "    def build(self, hp):\n",
        "        model = models.Sequential()\n",
        "        model.add(\n",
        "            layers.Conv2D(\n",
        "                filters=16,\n",
        "                kernel_size=3,\n",
        "                activation='relu',\n",
        "                input_shape=self.input_shape\n",
        "            )\n",
        "        )\n",
        "        model.add(\n",
        "            layers.Conv2D(\n",
        "                filters=16,\n",
        "                activation='relu',\n",
        "                kernel_size=3\n",
        "            )\n",
        "        )\n",
        "        model.add(layers.MaxPooling2D(pool_size=2))\n",
        "        model.add(\n",
        "            layers.Dropout(rate=hp.Float(\n",
        "                'dropout_1',\n",
        "                min_value=0.0,\n",
        "                max_value=0.5,\n",
        "                default=0.25,\n",
        "                step=0.05,\n",
        "            ))\n",
        "        )\n",
        "        model.add(\n",
        "            layers.Conv2D(\n",
        "                filters=32,\n",
        "                kernel_size=3,\n",
        "                activation='relu'\n",
        "            )\n",
        "        )\n",
        "        model.add(\n",
        "            layers.Conv2D(\n",
        "                filters=hp.Choice(\n",
        "                    'num_filters',\n",
        "                    values=[32, 64],\n",
        "                    default=64,\n",
        "                ),\n",
        "                activation='relu',\n",
        "                kernel_size=3\n",
        "            )\n",
        "        )\n",
        "        model.add(layers.MaxPooling2D(pool_size=2))\n",
        "        model.add(\n",
        "            layers.Dropout(rate=hp.Float(\n",
        "                'dropout_2',\n",
        "                min_value=0.0,\n",
        "                max_value=0.5,\n",
        "                default=0.25,\n",
        "                step=0.05,\n",
        "            ))\n",
        "        )\n",
        "        model.add(layers.Flatten())\n",
        "        model.add(\n",
        "            layers.Dense(\n",
        "                units=hp.Int(\n",
        "                    'units',\n",
        "                    min_value=32,\n",
        "                    max_value=512,\n",
        "                    step=32,\n",
        "                    default=128\n",
        "                ),\n",
        "                activation=hp.Choice(\n",
        "                    'dense_activation',\n",
        "                    values=['relu', 'tanh', 'sigmoid'],\n",
        "                    default='relu'\n",
        "                )\n",
        "            )\n",
        "        )\n",
        "        model.add(\n",
        "            layers.Dropout(\n",
        "                rate=hp.Float(\n",
        "                    'dropout_3',\n",
        "                    min_value=0.0,\n",
        "                    max_value=0.5,\n",
        "                    default=0.25,\n",
        "                    step=0.05\n",
        "                )\n",
        "            )\n",
        "        )\n",
        "        model.add(layers.Dense(self.num_classes, activation='softmax'))\n",
        "\n",
        "        model.compile(\n",
        "            optimizer=optimizers.Adam(\n",
        "                hp.Float(\n",
        "                    'learning_rate',\n",
        "                    min_value=1e-4,\n",
        "                    max_value=1e-2,\n",
        "                    sampling='LOG',\n",
        "                    default=1e-3\n",
        "                )\n",
        "            ),\n",
        "            loss='sparse_categorical_crossentropy',\n",
        "            metrics=['accuracy']\n",
        "        )\n",
        "        return model\n",
        "INPUT_SHAPE = (32,32,3)\n",
        "NUM_CLASSES = 10\n",
        "hypermodel = CNNHyperModel(input_shape=INPUT_SHAPE, num_classes=NUM_CLASSES)\n",
        "\n",
        "MAX_TRIALS = 20\n",
        "EXECUTION_PER_TRIAL = 2\n",
        "\n",
        "tuner = RandomSearch(\n",
        "    hypermodel,\n",
        "    objective='val_accuracy',\n",
        "    max_trials=MAX_TRIALS,\n",
        "    executions_per_trial=EXECUTION_PER_TRIAL,\n",
        "    directory='random_search',\n",
        "    project_name='cifar10'\n",
        ")"
      ],
      "execution_count": 13,
      "outputs": []
    },
    {
      "cell_type": "code",
      "metadata": {
        "colab": {
          "base_uri": "https://localhost:8080/"
        },
        "id": "NklHT3iOltx4",
        "outputId": "f85cfb56-3b2b-4f9e-e9af-4c3ff4c72bfb"
      },
      "source": [
        "tuner.search(X_train, y_train, validation_data=(X_test, y_test), epochs=20)"
      ],
      "execution_count": null,
      "outputs": [
        {
          "output_type": "stream",
          "name": "stdout",
          "text": [
            "Trial 6 Complete [00h 09m 05s]\n",
            "val_accuracy: 0.2988999970257282\n",
            "\n",
            "Best val_accuracy So Far: 0.7215000092983246\n",
            "Total elapsed time: 00h 59m 20s\n",
            "\n",
            "Search: Running Trial #7\n",
            "\n",
            "Hyperparameter    |Value             |Best Value So Far \n",
            "dropout_1         |0.15              |0.3               \n",
            "num_filters       |32                |64                \n",
            "dropout_2         |0.2               |0.05              \n",
            "units             |128               |192               \n",
            "dense_activation  |tanh              |relu              \n",
            "dropout_3         |0.1               |0                 \n",
            "learning_rate     |0.0016084         |0.00013786        \n",
            "\n"
          ]
        }
      ]
    },
    {
      "cell_type": "code",
      "metadata": {
        "id": "nDbwZDnS08RW"
      },
      "source": [
        "best_model = tuner.get_best_models()[0]\n",
        "best_model.summary()"
      ],
      "execution_count": null,
      "outputs": []
    }
  ]
}